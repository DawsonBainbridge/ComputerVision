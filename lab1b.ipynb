{
  "nbformat": 4,
  "nbformat_minor": 0,
  "metadata": {
    "colab": {
      "provenance": [],
      "collapsed_sections": [],
      "authorship_tag": "ABX9TyPPdUldD8xpCLPTp00+3Rhc",
      "include_colab_link": true
    },
    "kernelspec": {
      "name": "python3",
      "display_name": "Python 3"
    },
    "language_info": {
      "name": "python"
    }
  },
  "cells": [
    {
      "cell_type": "markdown",
      "metadata": {
        "id": "view-in-github",
        "colab_type": "text"
      },
      "source": [
        "<a href=\"https://colab.research.google.com/github/DawsonBainbridge/ComputerVision/blob/main/lab1b.ipynb\" target=\"_parent\"><img src=\"https://colab.research.google.com/assets/colab-badge.svg\" alt=\"Open In Colab\"/></a>"
      ]
    },
    {
      "cell_type": "code",
      "execution_count": null,
      "metadata": {
        "colab": {
          "base_uri": "https://localhost:8080/"
        },
        "id": "FI4XXVem1HQL",
        "outputId": "af4fb282-57cf-471e-c393-e78fef979550"
      },
      "outputs": [
        {
          "output_type": "stream",
          "name": "stdout",
          "text": [
            "Hello World\n"
          ]
        }
      ],
      "source": [
        "print('Hello World')"
      ]
    },
    {
      "cell_type": "code",
      "source": [
        "x = 328 * 68 / 23 + 2**10\n",
        "print(x)"
      ],
      "metadata": {
        "colab": {
          "base_uri": "https://localhost:8080/"
        },
        "id": "9pUVX51g1Rka",
        "outputId": "08a64a33-a763-472e-8426-8a090910885d"
      },
      "execution_count": null,
      "outputs": [
        {
          "output_type": "stream",
          "name": "stdout",
          "text": [
            "1993.7391304347825\n"
          ]
        }
      ]
    },
    {
      "cell_type": "code",
      "source": [
        "x = ['A', 'B' ,'C', 5]\n",
        "printList(x)"
      ],
      "metadata": {
        "id": "ym6M1dZf30KJ",
        "colab": {
          "base_uri": "https://localhost:8080/"
        },
        "outputId": "73607bd5-70a6-4441-cc6d-3a2b78fca114"
      },
      "execution_count": 3,
      "outputs": [
        {
          "output_type": "stream",
          "name": "stdout",
          "text": [
            "['A', 'B', 'C', 5]\n",
            "['A', 'B', 'C', 5]\n",
            "['A', 'B', 'C', 5]\n"
          ]
        }
      ]
    },
    {
      "cell_type": "code",
      "source": [
        "for x in['A', 'B', 'C', 6]:\n",
        "  print(x)"
      ],
      "metadata": {
        "colab": {
          "base_uri": "https://localhost:8080/"
        },
        "id": "M3Npp8qv4C2B",
        "outputId": "7595cf9d-88ad-4b0d-cb94-71d0e0cc4e72"
      },
      "execution_count": null,
      "outputs": [
        {
          "output_type": "stream",
          "name": "stdout",
          "text": [
            "A\n",
            "B\n",
            "C\n",
            "6\n"
          ]
        }
      ]
    },
    {
      "cell_type": "code",
      "source": [
        "def printList(data):\n",
        "  for x in range(3):\n",
        "    print(data)"
      ],
      "metadata": {
        "id": "Kvgg-RYBDAj0"
      },
      "execution_count": 2,
      "outputs": []
    }
  ]
}